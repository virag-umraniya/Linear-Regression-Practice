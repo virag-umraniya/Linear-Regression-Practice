{
 "cells": [
  {
   "cell_type": "code",
   "execution_count": null,
   "id": "566fdbee-f8d9-4c35-85f7-7478b4c98abe",
   "metadata": {},
   "outputs": [],
   "source": []
  }
 ],
 "metadata": {
  "kernelspec": {
   "display_name": "",
   "name": ""
  },
  "language_info": {
   "name": ""
  }
 },
 "nbformat": 4,
 "nbformat_minor": 5
}
